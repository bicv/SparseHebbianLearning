{
 "cells": [
  {
   "cell_type": "markdown",
   "metadata": {},
   "source": [
    "# Sparse Hebbian Learning : testing two different learning rates strategies"
   ]
  },
  {
   "cell_type": "code",
   "execution_count": 1,
   "metadata": {
    "ExecuteTime": {
     "end_time": "2018-09-26T07:57:10.540585Z",
     "start_time": "2018-09-26T07:57:10.522162Z"
    }
   },
   "outputs": [],
   "source": [
    "%load_ext autoreload\n",
    "%autoreload 2"
   ]
  },
  {
   "cell_type": "code",
   "execution_count": 2,
   "metadata": {
    "ExecuteTime": {
     "end_time": "2018-09-26T07:57:10.897426Z",
     "start_time": "2018-09-26T07:57:10.543840Z"
    }
   },
   "outputs": [],
   "source": [
    "%matplotlib inline\n",
    "import matplotlib.pyplot as plt\n",
    "import numpy as np\n",
    "np.set_printoptions(precision=2, suppress=True)\n",
    "from copy import deepcopy"
   ]
  },
  {
   "cell_type": "code",
   "execution_count": 3,
   "metadata": {
    "ExecuteTime": {
     "end_time": "2018-09-26T07:57:11.021926Z",
     "start_time": "2018-09-26T07:57:10.900511Z"
    }
   },
   "outputs": [],
   "source": [
    "from shl_scripts.shl_experiments import SHL\n",
    "\n",
    "list_figures = ['show_dico']#, 'rec_error', 'plot_variance',  'plot_variance_histogram',  'time_plot_prob',  'time_plot_kurt',  'time_plot_var']\n",
    "tag = 'learning-rates'\n",
    "shl = SHL()\n",
    "data = shl.get_data(matname='data')"
   ]
  },
  {
   "cell_type": "code",
   "execution_count": 4,
   "metadata": {},
   "outputs": [],
   "source": [
    "!rm -fr {shl.cache_dir}/{tag}*lock*\n",
    "#!rm -fr {shl.cache_dir}/{tag}*"
   ]
  },
  {
   "cell_type": "code",
   "execution_count": 5,
   "metadata": {},
   "outputs": [
    {
     "name": "stdout",
     "output_type": "stream",
     "text": [
      "ls: cache_dir/learning-rates*lock*: No such file or directory\n"
     ]
    }
   ],
   "source": [
    "%ls -ltr {shl.cache_dir}/{tag}*lock*"
   ]
  },
  {
   "cell_type": "markdown",
   "metadata": {},
   "source": [
    "## fixed learning rate"
   ]
  },
  {
   "cell_type": "code",
   "execution_count": null,
   "metadata": {
    "ExecuteTime": {
     "end_time": "2018-09-26T07:57:11.953343Z",
     "start_time": "2018-09-26T07:57:11.024961Z"
    },
    "scrolled": false
   },
   "outputs": [],
   "source": [
    "matname = tag + '_fixed'\n",
    "shl = SHL(beta1=0.)\n",
    "dico_fixed = shl.learn_dico(data=data, matname=matname, list_figures=list_figures)"
   ]
  },
  {
   "cell_type": "code",
   "execution_count": null,
   "metadata": {
    "ExecuteTime": {
     "end_time": "2018-09-26T08:41:06.187524Z",
     "start_time": "2018-09-26T07:57:11.956305Z"
    }
   },
   "outputs": [],
   "source": [
    "from shl_scripts.shl_experiments import SHL_set\n",
    "opts = dict(beta1=0., verbose=0)\n",
    "experiments = SHL_set(opts, tag=matname)\n",
    "\n",
    "list_figures = []\n",
    "list_figures = ['show_dico']\n",
    "\n",
    "\n",
    "display_variables = ['error', 'logL', 'cputime']\n",
    "display_variables = ['error', 'logL', 'perror', 'MC', 'cputime']\n",
    "display_variables = ['F']\n",
    "\n",
    "n_jobs = 35\n",
    "\n",
    "variables = ['eta']\n",
    "\n",
    "experiments.run(variables=variables, n_jobs=n_jobs)\n",
    "\n",
    "for variable in variables:\n",
    "    experiments.scan(variable=variable, list_figures=list_figures, display='')\n",
    "    plt.show()\n",
    "\n",
    "    for display_variable in display_variables:\n",
    "        fig, ax = experiments.scan(variable=variable, list_figures=[], display='dynamic', display_variable=display_variable)\n",
    "        plt.show()\n",
    "\n",
    "    for display_variable in display_variables:\n",
    "        fig, ax = experiments.scan(variable=variable, list_figures=[], display='final', display_variable=display_variable)\n",
    "        plt.show()"
   ]
  },
  {
   "cell_type": "markdown",
   "metadata": {},
   "source": [
    "## ADAM\n",
    "\n",
    "See https://arxiv.org/pdf/1412.6980.pdf"
   ]
  },
  {
   "cell_type": "raw",
   "metadata": {},
   "source": [
    "%ls -ltr {shl.cache_dir}/{matname}*\n",
    "%rm -fr {shl.cache_dir}/{matname}*"
   ]
  },
  {
   "cell_type": "code",
   "execution_count": null,
   "metadata": {
    "ExecuteTime": {
     "end_time": "2018-09-26T08:41:06.188945Z",
     "start_time": "2018-09-26T07:57:10.542Z"
    },
    "scrolled": false
   },
   "outputs": [],
   "source": [
    "matname = tag + '_ADAM'\n",
    "shl = SHL(beta1=.9, beta2=.999, epsilon=1.e-8)\n",
    "dico_adam = shl.learn_dico(data=data, matname=matname, list_figures=list_figures)"
   ]
  },
  {
   "cell_type": "code",
   "execution_count": null,
   "metadata": {
    "ExecuteTime": {
     "end_time": "2018-09-26T08:41:06.190119Z",
     "start_time": "2018-09-26T07:57:10.546Z"
    },
    "scrolled": false
   },
   "outputs": [],
   "source": [
    "for variable in ['error', 'logL', 'F']:\n",
    "    fig_error, ax_error = None, None\n",
    "    fig_error, ax_error = shl.time_plot(dico_fixed, variable=variable, fig=fig_error, ax=ax_error, color='blue', label='fixed')\n",
    "    fig_error, ax_error = shl.time_plot(dico_adam, variable=variable, fig=fig_error, ax=ax_error, color='red', label='adam')\n",
    "    #ax_error.set_ylim((0, .65))\n",
    "    ax_error.legend(loc='best')\n",
    "    plt.show();"
   ]
  },
  {
   "cell_type": "code",
   "execution_count": null,
   "metadata": {
    "ExecuteTime": {
     "end_time": "2018-09-26T08:41:06.191345Z",
     "start_time": "2018-09-26T07:57:10.549Z"
    }
   },
   "outputs": [],
   "source": [
    "from shl_scripts.shl_experiments import SHL_set\n",
    "opts = dict(beta1=.9, beta2=.999, epsilon=1.e-8, verbose=0)\n",
    "experiments = SHL_set(opts, tag=matname)\n",
    "\n",
    "list_figures = []\n",
    "list_figures = ['show_dico']\n",
    "\n",
    "\n",
    "display_variables = ['error', 'logL', 'cputime']\n",
    "display_variables = ['error', 'logL', 'perror', 'MC', 'cputime']\n",
    "display_variables = ['F']\n",
    "\n",
    "variables = ['eta', 'beta1', 'beta2', 'epsilon']\n",
    "\n",
    "experiments.run(variables=variables, n_jobs=n_jobs)\n",
    "\n",
    "for variable in variables:\n",
    "    experiments.scan(variable=variable, list_figures=list_figures, display='')\n",
    "    plt.show()\n",
    "\n",
    "    for display_variable in display_variables:\n",
    "        fig, ax = experiments.scan(variable=variable, list_figures=[], display='dynamic', display_variable=display_variable)\n",
    "        plt.show()\n",
    "\n",
    "    for display_variable in display_variables:\n",
    "        fig, ax = experiments.scan(variable=variable, list_figures=[], display='final', display_variable=display_variable)\n",
    "        plt.show()"
   ]
  },
  {
   "cell_type": "markdown",
   "metadata": {},
   "source": [
    "## Version used"
   ]
  },
  {
   "cell_type": "code",
   "execution_count": null,
   "metadata": {
    "ExecuteTime": {
     "end_time": "2018-09-26T08:41:06.192773Z",
     "start_time": "2018-09-26T07:57:10.553Z"
    }
   },
   "outputs": [],
   "source": [
    "%load_ext watermark\n",
    "%watermark -i -h -m -v -p numpy,matplotlib,shl_scripts,pandas"
   ]
  }
 ],
 "metadata": {
  "kernelspec": {
   "display_name": "Python 3",
   "language": "python",
   "name": "python3"
  },
  "language_info": {
   "codemirror_mode": {
    "name": "ipython",
    "version": 3
   },
   "file_extension": ".py",
   "mimetype": "text/x-python",
   "name": "python",
   "nbconvert_exporter": "python",
   "pygments_lexer": "ipython3",
   "version": "3.7.2"
  },
  "toc": {
   "base_numbering": 1,
   "nav_menu": {},
   "number_sections": true,
   "sideBar": true,
   "skip_h1_title": false,
   "title_cell": "Table of Contents",
   "title_sidebar": "Contents",
   "toc_cell": false,
   "toc_position": {},
   "toc_section_display": "block",
   "toc_window_display": false
  }
 },
 "nbformat": 4,
 "nbformat_minor": 2
}
